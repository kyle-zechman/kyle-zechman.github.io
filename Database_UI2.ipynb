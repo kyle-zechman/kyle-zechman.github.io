   source: [
    from jupyter_plotly_dash import JupyterDash

    import dash
    import dash_leaflet as dl
    import dash_core_components as dcc
    import dash_html_components as html
    import plotly.express as px
    import dash_table as dt
    from dash.dependencies import Input Output State
    
    import os
    import numpy as np
    import pandas as pd
    from pymongo import MongoClient
    from bson.json_util import dumps
    import CS_340_5
    
    
    
    
    ###########################
    # Data Manipulation / Model
    ###########################
    
    username = \accuser\
    password = \admin\
    shelter = CS_340_5.AnimalShelter
    
     
    df = pd.DataFrame.from_records(shelter.read({}))
    
    
    
    #########################
    # Dashboard Layout / View
    #########################
    app = JupyterDash('SimpleExample')
    
    #Set up image
    image_filename = 'Grazioso Salvare Logo.png'
    encoded_image = base64.b64encode(open(image_filename 'rb').read())
    
    
    
    app.layout = html.Div([
        html.Div(id='hidden-div' style={'display':'none'})
        html.Center(html.B(html.H1('SNHU CS-340 Dashboard')))
        html.Img(src='data:image/png;base64{}'.format(encoded_image.decode()))
        html.Hr()
        html.Div(
          
        #Dropdown options for filtering
        dcc.Dropdown(
            id = 'dropdown'
            options = [
                {'label': 'Dog' 'value': 'Dog'}
                {'label': 'Cat' 'value': 'Cat'}
                {'label': 'Age' 'value': 'age_upon_outcome'}
            ]
            value = 'Dog'
            placeholder = \Select a Filter\
            clearable = False
            multi = True
            
        )
    
    
        )
        html.Hr()
        dt.DataTable(
            id='datatable-id'
            columns=[
                {\name\: i \id\: i \deletable\: False \selectable\: True} for i in df.columns
            ]
            data=df.to_dict('records')
            row_selectable=True
            filterable=True
            sortable=True
            editable=False
            max_rows_in_viewport=10
    #If you completed the Module Six Assignment you can copy in the code you created here 
            
        )
        html.Br()
        html.Hr()
    #This sets up the dashboard so that your chart and your geolocation chart are side-by-side
        html.Div(className='row'
             style={'display' : 'flex'}
                 children=[
            html.Div(
                id='graph-id'
                className='col s12 m6'
    
                )
            html.Div(
                id='map-id'
                className='col s12 m6'
                )
            ])
    ])
    
    #############################################
    # Interaction Between Components / Controller
    #############################################
    
    
    
        
    @app.callback([Output('datatable-id''data')
                   Output('datatable-id''columns')]
                  [Input('filter-type' 'value')])
    def update_dashboard(filter_type):
            
        columns=[{\name\: i \id\: i \deletable\: False \selectable\: True} for i in df.columns]
        data=df.to_dict('records')
        return (datacolumns)
    
    
    
    
    @app.callback(
        Output('datatable-id' 'style_data_conditional')
        [Input('datatable-id' 'selected_columns')])
    def update_styles(selected_columns):
        return [{
            'if': { 'column_id': i }
            'background_color': '#D2F3FF'
        } for i in selected_columns]
    
    @app.callback(
        Output('graph-id' \children\)
        [Input('datatable-id' \derived_viewport_data\)])
    #create scattor plot
    def update_graphs(viewData):
        df = px.data.iris()
        fig = px.scatter(df x = \Dog age\ y = \Dog Outcome\)
        return [
            dcc.Graph(            
                figure = fig
            )    
        ]
    
        @app.callback(
        Output('map-id' \children\)
        [Input('datatable-id' \derived_viewport_data\)])
        def update_map(viewData):

    
    
    
            app
   ]
  }
  {
   cell_type: code
   execution_count: null
   metadata: {}
   outputs: []
   source: []
  }
  {
   cell_type: code
   execution_count: null
   metadata: {}
   outputs: []
   source: []
  }
  {
   cell_type: code
   execution_count: null
   metadata: {}
   outputs: []
   source: []
  }
 ]
 metadata: {
  kernelspec: {
   display_name: Python 3
   language: python
   name: python3
  }
  language_info: {
   codemirror_mode: {
    name: ipython
    version: 3
   }
   file_extension: .py
   mimetype: text/x-python
   name: python
   nbconvert_exporter: python
   pygments_lexer: ipython3
   version: 3.6.9
  }
 }
 nbformat: 4
 nbformat_minor: 2
}
